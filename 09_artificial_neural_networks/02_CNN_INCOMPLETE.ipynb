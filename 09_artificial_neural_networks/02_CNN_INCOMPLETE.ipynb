{
 "cells": [
  {
   "cell_type": "markdown",
   "metadata": {},
   "source": [
    "### CNN\n",
    "\n",
    "#### Train a CNN on the MNIST data"
   ]
  },
  {
   "cell_type": "code",
   "execution_count": 6,
   "metadata": {},
   "outputs": [],
   "source": [
    "from tensorflow.keras.datasets import mnist\n",
    "from tensorflow.keras.models import Sequential\n",
    "from tensorflow.keras.layers import Input, Dense, Flatten, Conv2D, MaxPooling2D, Activation, BatchNormalization, Dropout\n",
    "from tensorflow.keras.utils import to_categorical\n",
    "from tensorflow.keras import backend as K\n",
    "from matplotlib import pyplot as plt\n",
    "import numpy as np"
   ]
  },
  {
   "cell_type": "code",
   "execution_count": 2,
   "metadata": {},
   "outputs": [],
   "source": [
    "(X_train, y_train), (X_test, y_test) = mnist.load_data()"
   ]
  },
  {
   "cell_type": "markdown",
   "metadata": {},
   "source": [
    "#### Reshape X and y data"
   ]
  },
  {
   "cell_type": "code",
   "execution_count": 3,
   "metadata": {},
   "outputs": [],
   "source": [
    "X_train_reshaped = np.expand_dims(X_train, axis=3) # equal to X_train.reshape(60000, 28, 28, 1)\n",
    "# we explicitely state that there is one color channel\n",
    "X_test_reshaped = np.expand_dims(X_test, axis=3)\n",
    "y_train_reshaped = to_categorical(y_train)\n",
    "y_test_reshaped = to_categorical(y_test)"
   ]
  },
  {
   "cell_type": "markdown",
   "metadata": {},
   "source": [
    "#### Instantiate the Model"
   ]
  },
  {
   "cell_type": "code",
   "execution_count": 10,
   "metadata": {},
   "outputs": [],
   "source": [
    "K.clear_session() # clears the session and deletes old layers\n",
    "\n",
    "model = Sequential([\n",
    "    Conv2D(filters=32,             # aka neurons, kernels, base 2 numbers convention\n",
    "           kernel_size=(3,3),      # (3,3) kernel has 9+1 parameters\n",
    "                                   # (5,5) kernel has 25+1 parameters\n",
    "           strides=(2,2),          # steps, bigger -> smaller output\n",
    "                                   # default (1,1) and use MaxPool afterwards\n",
    "           activation='relu',      # ReLU great first choice, ELU for optimization\n",
    "           input_shape=(28,28,1)), # what is the shape of my numpy array X_train_reshaped\n",
    "                                   # assumes that there is one or many color channel,\n",
    "                                   # you have to tell it how many\n",
    "        BatchNormalization(),\n",
    "    MaxPooling2D(pool_size=(3,3), strides=(2,2)),\n",
    "        BatchNormalization(),\n",
    "    Conv2D(filters=10, kernel_size=(3,3), strides=(2,2), activation='relu'),\n",
    "                                   # for the second conv layer you do not set input shape\n",
    "    Flatten(),\n",
    "    Dropout(0.5),\n",
    "        BatchNormalization(),\n",
    "    Dense(10, activation='softmax')])"
   ]
  },
  {
   "cell_type": "code",
   "execution_count": null,
   "metadata": {},
   "outputs": [],
   "source": []
  },
  {
   "cell_type": "markdown",
   "metadata": {},
   "source": [
    "#### Model Summary\n",
    "- None is a placeholder for # of data points\n",
    "- last digit of output shape is # of filters\n",
    "- last dense layer adds additional # of parameters for each neuron's bias"
   ]
  },
  {
   "cell_type": "code",
   "execution_count": 11,
   "metadata": {},
   "outputs": [
    {
     "name": "stdout",
     "output_type": "stream",
     "text": [
      "Model: \"sequential\"\n",
      "_________________________________________________________________\n",
      "Layer (type)                 Output Shape              Param #   \n",
      "=================================================================\n",
      "conv2d (Conv2D)              (None, 13, 13, 32)        320       \n",
      "_________________________________________________________________\n",
      "batch_normalization (BatchNo (None, 13, 13, 32)        128       \n",
      "_________________________________________________________________\n",
      "max_pooling2d (MaxPooling2D) (None, 6, 6, 32)          0         \n",
      "_________________________________________________________________\n",
      "batch_normalization_1 (Batch (None, 6, 6, 32)          128       \n",
      "_________________________________________________________________\n",
      "conv2d_1 (Conv2D)            (None, 2, 2, 10)          2890      \n",
      "_________________________________________________________________\n",
      "flatten (Flatten)            (None, 40)                0         \n",
      "_________________________________________________________________\n",
      "dropout (Dropout)            (None, 40)                0         \n",
      "_________________________________________________________________\n",
      "batch_normalization_2 (Batch (None, 40)                160       \n",
      "_________________________________________________________________\n",
      "dense (Dense)                (None, 10)                410       \n",
      "=================================================================\n",
      "Total params: 4,036\n",
      "Trainable params: 3,828\n",
      "Non-trainable params: 208\n",
      "_________________________________________________________________\n"
     ]
    }
   ],
   "source": [
    "model.summary()"
   ]
  },
  {
   "cell_type": "markdown",
   "metadata": {},
   "source": [
    "#### Compile the Model"
   ]
  },
  {
   "cell_type": "code",
   "execution_count": 6,
   "metadata": {},
   "outputs": [],
   "source": [
    "model.compile(optimizer='rmsprop', loss='categorical_crossentropy', metrics=['accuracy'])"
   ]
  },
  {
   "cell_type": "code",
   "execution_count": 7,
   "metadata": {},
   "outputs": [
    {
     "name": "stdout",
     "output_type": "stream",
     "text": [
      "Epoch 1/20\n",
      "108/108 [==============================] - 3s 24ms/step - loss: 0.5789 - accuracy: 0.8126 - val_loss: 0.4584 - val_accuracy: 0.8513\n",
      "Epoch 2/20\n",
      "108/108 [==============================] - 3s 24ms/step - loss: 0.1980 - accuracy: 0.9394 - val_loss: 0.0861 - val_accuracy: 0.9730\n",
      "Epoch 3/20\n",
      "108/108 [==============================] - 3s 23ms/step - loss: 0.1484 - accuracy: 0.9536 - val_loss: 0.0739 - val_accuracy: 0.9775\n",
      "Epoch 4/20\n",
      "108/108 [==============================] - 3s 24ms/step - loss: 0.1314 - accuracy: 0.9581 - val_loss: 0.0786 - val_accuracy: 0.9745\n",
      "Epoch 5/20\n",
      "108/108 [==============================] - 3s 24ms/step - loss: 0.1200 - accuracy: 0.9627 - val_loss: 0.0633 - val_accuracy: 0.9793\n",
      "Epoch 6/20\n",
      "108/108 [==============================] - 3s 24ms/step - loss: 0.1120 - accuracy: 0.9647 - val_loss: 0.0583 - val_accuracy: 0.9810\n",
      "Epoch 7/20\n",
      "108/108 [==============================] - 3s 23ms/step - loss: 0.1080 - accuracy: 0.9659 - val_loss: 0.0573 - val_accuracy: 0.9823\n",
      "Epoch 8/20\n",
      "108/108 [==============================] - 3s 24ms/step - loss: 0.1074 - accuracy: 0.9670 - val_loss: 0.0559 - val_accuracy: 0.9832\n",
      "Epoch 9/20\n",
      "108/108 [==============================] - 3s 24ms/step - loss: 0.1017 - accuracy: 0.9678 - val_loss: 0.0555 - val_accuracy: 0.9832\n",
      "Epoch 10/20\n",
      "108/108 [==============================] - 3s 24ms/step - loss: 0.0992 - accuracy: 0.9677 - val_loss: 0.0544 - val_accuracy: 0.9827\n",
      "Epoch 11/20\n",
      "108/108 [==============================] - 3s 24ms/step - loss: 0.0979 - accuracy: 0.9693 - val_loss: 0.0535 - val_accuracy: 0.9835\n",
      "Epoch 12/20\n",
      "108/108 [==============================] - 3s 24ms/step - loss: 0.0988 - accuracy: 0.9683 - val_loss: 0.0509 - val_accuracy: 0.9837\n",
      "Epoch 13/20\n",
      "108/108 [==============================] - 3s 24ms/step - loss: 0.0968 - accuracy: 0.9693 - val_loss: 0.0510 - val_accuracy: 0.9843\n",
      "Epoch 14/20\n",
      "108/108 [==============================] - 3s 24ms/step - loss: 0.0944 - accuracy: 0.9698 - val_loss: 0.0507 - val_accuracy: 0.9843\n",
      "Epoch 15/20\n",
      "108/108 [==============================] - 3s 25ms/step - loss: 0.0935 - accuracy: 0.9702 - val_loss: 0.0509 - val_accuracy: 0.9847\n",
      "Epoch 16/20\n",
      "108/108 [==============================] - 3s 25ms/step - loss: 0.0950 - accuracy: 0.9688 - val_loss: 0.0496 - val_accuracy: 0.9848\n",
      "Epoch 17/20\n",
      "108/108 [==============================] - 3s 24ms/step - loss: 0.0925 - accuracy: 0.9704 - val_loss: 0.0489 - val_accuracy: 0.9847\n",
      "Epoch 18/20\n",
      "108/108 [==============================] - 3s 24ms/step - loss: 0.0918 - accuracy: 0.9707 - val_loss: 0.0491 - val_accuracy: 0.9843\n",
      "Epoch 19/20\n",
      "108/108 [==============================] - 3s 24ms/step - loss: 0.0906 - accuracy: 0.9704 - val_loss: 0.0533 - val_accuracy: 0.9833\n",
      "Epoch 20/20\n",
      "108/108 [==============================] - 3s 25ms/step - loss: 0.0949 - accuracy: 0.9701 - val_loss: 0.0488 - val_accuracy: 0.9843\n"
     ]
    }
   ],
   "source": [
    "history = model.fit(X_train_reshaped,y_train_reshaped, epochs=20, batch_size=500, verbose=1, validation_data=(X_test_reshaped, y_test_reshaped), validation_split=0.1)"
   ]
  },
  {
   "cell_type": "markdown",
   "metadata": {},
   "source": [
    "#### Plot train and test data"
   ]
  },
  {
   "cell_type": "code",
   "execution_count": 8,
   "metadata": {},
   "outputs": [
    {
     "data": {
      "text/plain": [
       "<matplotlib.legend.Legend at 0x7fea184d0828>"
      ]
     },
     "execution_count": 8,
     "metadata": {},
     "output_type": "execute_result"
    },
    {
     "data": {
      "image/png": "[encoded data removed]",
      "text/plain": [
       "<Figure size 432x288 with 1 Axes>"
      ]
     },
     "metadata": {
      "needs_background": "light"
     },
     "output_type": "display_data"
    }
   ],
   "source": [
    "plt.plot(history.history['loss'])\n",
    "plt.plot(history.history['val_loss'])\n",
    "plt.ylabel('loss')\n",
    "plt.xlabel('epoch')\n",
    "plt.legend(['train', 'test'], loc='upper left')"
   ]
  },
  {
   "cell_type": "code",
   "execution_count": 9,
   "metadata": {},
   "outputs": [
    {
     "data": {
      "text/plain": [
       "[<matplotlib.lines.Line2D at 0x7fea1879d6a0>]"
      ]
     },
     "execution_count": 9,
     "metadata": {},
     "output_type": "execute_result"
    },
    {
     "data": {
      "image/png": "[encoded data removed]",
      "text/plain": [
       "<Figure size 432x288 with 1 Axes>"
      ]
     },
     "metadata": {
      "needs_background": "light"
     },
     "output_type": "display_data"
    }
   ],
   "source": [
    "plt.plot(history.history['accuracy'])\n",
    "plt.plot(history.history['val_accuracy'])"
   ]
  },
  {
   "cell_type": "code",
   "execution_count": null,
   "metadata": {},
   "outputs": [],
   "source": []
  }
 ],
 "metadata": {
  "kernelspec": {
   "display_name": "Python 3",
   "language": "python",
   "name": "python3"
  },
  "language_info": {
   "codemirror_mode": {
    "name": "ipython",
    "version": 3
   },
   "file_extension": ".py",
   "mimetype": "text/x-python",
   "name": "python",
   "nbconvert_exporter": "python",
   "pygments_lexer": "ipython3",
   "version": "3.6.10"
  }
 },
 "nbformat": 4,
 "nbformat_minor": 4
}
